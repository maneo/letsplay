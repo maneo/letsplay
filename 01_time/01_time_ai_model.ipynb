{
 "cells": [
  {
   "cell_type": "code",
   "execution_count": 17,
   "metadata": {},
   "outputs": [],
   "source": [
    "from xgboost import XGBClassifier\n",
    "import pandas as pd\n",
    "import numpy as np\n",
    "import pickle\n",
    "from sklearn.model_selection import train_test_split\n",
    "from sklearn.linear_model import LogisticRegression\n",
    "from sklearn.metrics import accuracy_score\n",
    "from sklearn.ensemble import RandomForestClassifier\n",
    "from sklearn.neural_network import MLPClassifier\n"
   ]
  },
  {
   "cell_type": "code",
   "execution_count": 49,
   "metadata": {},
   "outputs": [
    {
     "name": "stdout",
     "output_type": "stream",
     "text": [
      "random forest - done\n",
      "mlp - done\n",
      "xgb - done\n",
      "random forest - done\n",
      "mlp - done\n",
      "xgb - done\n"
     ]
    }
   ],
   "source": [
    "def train_models(input_file, experiment_name, headers):\n",
    "    df = pd.read_csv(input_file, \n",
    "                     sep = ',', \n",
    "                     header = None,\n",
    "                     names = headers)\n",
    "\n",
    "    y_train = df[\"action\"]\n",
    "    X_train = df.drop(columns=\"action\")\n",
    "    \n",
    "    forest_model = RandomForestClassifier(random_state=1, n_estimators=1000)\n",
    "    forest_model.fit(X_train, y_train)\n",
    "    pickle.dump(forest_model, open(\"forest_\" + experiment_name + \".pkl\",\"wb\"))\n",
    "    print(\"random forest - done\")\n",
    "    \n",
    "    mlp_model = MLPClassifier(solver='lbfgs', alpha=1e-5, \n",
    "                    hidden_layer_sizes=(128, 128, 128), random_state=1)\n",
    "    mlp_model.fit(X_train, y_train)   \n",
    "    pickle.dump(forest_model, open(\"mlp_\" + experiment_name + \".pkl\",\"wb\"))\n",
    "    print(\"mlp - done\")\n",
    "    \n",
    "    xgb_model = XGBClassifier(n_estimators=1000).fit(X_train, y_train)\n",
    "    pickle.dump(xgb_model, open(\"xgb_\" + experiment_name + \".pkl\",\"wb\"))\n",
    "    print(\"xgb - done\")\n",
    "\n",
    "\n",
    "features = [\"f0\"]\n",
    "label = [\"action\"]\n",
    "\n",
    "headers = label + features\n",
    "\n",
    "# one training game was multiplied many times\n",
    "train_models(\"train_only_time.csv\", \"only_time\", headers)\n",
    "\n",
    "# one round of shooting (126 frames) was multiplied many times\n",
    "train_models(\"train_synth_126.csv\", \"synth_126\", headers)"
   ]
  },
  {
   "cell_type": "code",
   "execution_count": 42,
   "metadata": {},
   "outputs": [
    {
     "name": "stdout",
     "output_type": "stream",
     "text": [
      "README.md                     ai_model_xgb_only_time.pkl\r\n",
      "ai_model.ipynb                ai_model_xgb_time_loop.pkl\r\n",
      "ai_model_forest.pkl           ai_model_xgbtime_loop.pkl\r\n",
      "ai_model_forest_only_time.pkl shmup-play.py\r\n",
      "ai_model_forest_time_loop.pkl shmup-play_only_time.py\r\n",
      "ai_model_foresttime_loop.pkl  shmup-train.py\r\n",
      "ai_model_mlp.pkl              shmup-train_only_time.py\r\n",
      "ai_model_mlp_only_time.pkl    train.log\r\n",
      "ai_model_mlp_time_loop.pkl    train_only_time.csv\r\n",
      "ai_model_mlptime_loop.pkl     train_time_loop.csv\r\n",
      "ai_model_xgb.pkl              train_time_loop2.csv\r\n"
     ]
    }
   ],
   "source": [
    "!bash evaluate.sh"
   ]
  },
  {
   "cell_type": "code",
   "execution_count": null,
   "metadata": {},
   "outputs": [],
   "source": []
  }
 ],
 "metadata": {
  "kernelspec": {
   "display_name": "Python 3",
   "language": "python",
   "name": "python3"
  },
  "language_info": {
   "codemirror_mode": {
    "name": "ipython",
    "version": 3
   },
   "file_extension": ".py",
   "mimetype": "text/x-python",
   "name": "python",
   "nbconvert_exporter": "python",
   "pygments_lexer": "ipython3",
   "version": "3.7.1"
  }
 },
 "nbformat": 4,
 "nbformat_minor": 2
}
