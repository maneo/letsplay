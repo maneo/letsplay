{
 "cells": [
  {
   "cell_type": "code",
   "execution_count": null,
   "metadata": {},
   "outputs": [],
   "source": [
    "from xgboost import XGBClassifier\n",
    "import pandas as pd\n",
    "import numpy as np\n",
    "import pickle\n",
    "from sklearn.neural_network import MLPClassifier\n",
    "from sklearn.model_selection import train_test_split\n",
    "from sklearn.linear_model import LogisticRegression\n",
    "from sklearn.metrics import accuracy_score\n",
    "from sklearn.ensemble import RandomForestClassifier"
   ]
  },
  {
   "cell_type": "code",
   "execution_count": 3,
   "metadata": {
    "scrolled": true
   },
   "outputs": [
    {
     "name": "stdout",
     "output_type": "stream",
     "text": [
      "47800\r\n"
     ]
    }
   ],
   "source": [
    "!cat models/20192009_2/train.csv | wc -l"
   ]
  },
  {
   "cell_type": "code",
   "execution_count": 4,
   "metadata": {},
   "outputs": [
    {
     "name": "stdout",
     "output_type": "stream",
     "text": [
      "train-data-10_1.csv  train-data-1_5.csv   train-data-31_6.csv\r\n",
      "train-data-10_4.csv  train-data-1_6.csv   train-data-33_5.csv\r\n",
      "train-data-13_1.csv  train-data-1_7.csv   train-data-34_4.csv\r\n",
      "train-data-13_5.csv  train-data-1_8.csv   train-data-3_1.csv\r\n",
      "train-data-15_4.csv  train-data-1_9.csv   train-data-40_2.csv\r\n",
      "train-data-17_3.csv  train-data-20_5.csv  train-data-40_4.csv\r\n",
      "train-data-18_2.csv  train-data-21_3.csv  train-data-5_5.csv\r\n",
      "train-data-19_2.csv  train-data-21_4.csv  train-data-6_1.csv\r\n",
      "train-data-1_3.csv   train-data-2_4.csv   train.csv\r\n",
      "train-data-1_4.csv   train-data-30_3.csv\r\n"
     ]
    }
   ],
   "source": [
    "!ls models/20192009_2/"
   ]
  },
  {
   "cell_type": "code",
   "execution_count": 5,
   "metadata": {},
   "outputs": [
    {
     "data": {
      "text/html": [
       "<div>\n",
       "<style scoped>\n",
       "    .dataframe tbody tr th:only-of-type {\n",
       "        vertical-align: middle;\n",
       "    }\n",
       "\n",
       "    .dataframe tbody tr th {\n",
       "        vertical-align: top;\n",
       "    }\n",
       "\n",
       "    .dataframe thead th {\n",
       "        text-align: right;\n",
       "    }\n",
       "</style>\n",
       "<table border=\"1\" class=\"dataframe\">\n",
       "  <thead>\n",
       "    <tr style=\"text-align: right;\">\n",
       "      <th></th>\n",
       "      <th>f0</th>\n",
       "      <th>f1</th>\n",
       "      <th>f2</th>\n",
       "      <th>f3</th>\n",
       "      <th>f4</th>\n",
       "      <th>f5</th>\n",
       "      <th>f6</th>\n",
       "      <th>f7</th>\n",
       "      <th>f8</th>\n",
       "      <th>f9</th>\n",
       "      <th>...</th>\n",
       "      <th>f108</th>\n",
       "      <th>f109</th>\n",
       "      <th>f110</th>\n",
       "      <th>f111</th>\n",
       "      <th>f112</th>\n",
       "      <th>f113</th>\n",
       "      <th>f114</th>\n",
       "      <th>f115</th>\n",
       "      <th>f116</th>\n",
       "      <th>action</th>\n",
       "    </tr>\n",
       "  </thead>\n",
       "  <tbody>\n",
       "    <tr>\n",
       "      <td>0</td>\n",
       "      <td>0</td>\n",
       "      <td>0</td>\n",
       "      <td>0</td>\n",
       "      <td>0</td>\n",
       "      <td>0</td>\n",
       "      <td>0</td>\n",
       "      <td>0</td>\n",
       "      <td>0</td>\n",
       "      <td>0</td>\n",
       "      <td>0</td>\n",
       "      <td>...</td>\n",
       "      <td>19</td>\n",
       "      <td>-63</td>\n",
       "      <td>-2</td>\n",
       "      <td>6</td>\n",
       "      <td>677</td>\n",
       "      <td>-178</td>\n",
       "      <td>653</td>\n",
       "      <td>410</td>\n",
       "      <td>-63</td>\n",
       "      <td>0</td>\n",
       "    </tr>\n",
       "    <tr>\n",
       "      <td>1</td>\n",
       "      <td>-8</td>\n",
       "      <td>232</td>\n",
       "      <td>-3</td>\n",
       "      <td>1</td>\n",
       "      <td>677</td>\n",
       "      <td>18</td>\n",
       "      <td>677</td>\n",
       "      <td>214</td>\n",
       "      <td>-87</td>\n",
       "      <td>1</td>\n",
       "      <td>...</td>\n",
       "      <td>16</td>\n",
       "      <td>-60</td>\n",
       "      <td>-2</td>\n",
       "      <td>6</td>\n",
       "      <td>671</td>\n",
       "      <td>-176</td>\n",
       "      <td>647</td>\n",
       "      <td>408</td>\n",
       "      <td>-57</td>\n",
       "      <td>4</td>\n",
       "    </tr>\n",
       "    <tr>\n",
       "      <td>2</td>\n",
       "      <td>-8</td>\n",
       "      <td>232</td>\n",
       "      <td>-3</td>\n",
       "      <td>1</td>\n",
       "      <td>676</td>\n",
       "      <td>21</td>\n",
       "      <td>676</td>\n",
       "      <td>211</td>\n",
       "      <td>-86</td>\n",
       "      <td>1</td>\n",
       "      <td>...</td>\n",
       "      <td>13</td>\n",
       "      <td>-57</td>\n",
       "      <td>-2</td>\n",
       "      <td>6</td>\n",
       "      <td>664</td>\n",
       "      <td>-174</td>\n",
       "      <td>641</td>\n",
       "      <td>406</td>\n",
       "      <td>-51</td>\n",
       "      <td>5</td>\n",
       "    </tr>\n",
       "    <tr>\n",
       "      <td>3</td>\n",
       "      <td>-8</td>\n",
       "      <td>232</td>\n",
       "      <td>-3</td>\n",
       "      <td>1</td>\n",
       "      <td>675</td>\n",
       "      <td>24</td>\n",
       "      <td>675</td>\n",
       "      <td>208</td>\n",
       "      <td>-85</td>\n",
       "      <td>1</td>\n",
       "      <td>...</td>\n",
       "      <td>10</td>\n",
       "      <td>-54</td>\n",
       "      <td>-2</td>\n",
       "      <td>6</td>\n",
       "      <td>656</td>\n",
       "      <td>-164</td>\n",
       "      <td>635</td>\n",
       "      <td>404</td>\n",
       "      <td>-45</td>\n",
       "      <td>1</td>\n",
       "    </tr>\n",
       "    <tr>\n",
       "      <td>4</td>\n",
       "      <td>8</td>\n",
       "      <td>240</td>\n",
       "      <td>-3</td>\n",
       "      <td>1</td>\n",
       "      <td>675</td>\n",
       "      <td>35</td>\n",
       "      <td>674</td>\n",
       "      <td>205</td>\n",
       "      <td>-84</td>\n",
       "      <td>1</td>\n",
       "      <td>...</td>\n",
       "      <td>7</td>\n",
       "      <td>-51</td>\n",
       "      <td>-2</td>\n",
       "      <td>6</td>\n",
       "      <td>650</td>\n",
       "      <td>-162</td>\n",
       "      <td>629</td>\n",
       "      <td>402</td>\n",
       "      <td>-39</td>\n",
       "      <td>5</td>\n",
       "    </tr>\n",
       "    <tr>\n",
       "      <td>...</td>\n",
       "      <td>...</td>\n",
       "      <td>...</td>\n",
       "      <td>...</td>\n",
       "      <td>...</td>\n",
       "      <td>...</td>\n",
       "      <td>...</td>\n",
       "      <td>...</td>\n",
       "      <td>...</td>\n",
       "      <td>...</td>\n",
       "      <td>...</td>\n",
       "      <td>...</td>\n",
       "      <td>...</td>\n",
       "      <td>...</td>\n",
       "      <td>...</td>\n",
       "      <td>...</td>\n",
       "      <td>...</td>\n",
       "      <td>...</td>\n",
       "      <td>...</td>\n",
       "      <td>...</td>\n",
       "      <td>...</td>\n",
       "      <td>...</td>\n",
       "    </tr>\n",
       "    <tr>\n",
       "      <td>47795</td>\n",
       "      <td>0</td>\n",
       "      <td>65</td>\n",
       "      <td>-2</td>\n",
       "      <td>7</td>\n",
       "      <td>65</td>\n",
       "      <td>-42</td>\n",
       "      <td>50</td>\n",
       "      <td>107</td>\n",
       "      <td>540</td>\n",
       "      <td>0</td>\n",
       "      <td>...</td>\n",
       "      <td>165</td>\n",
       "      <td>419</td>\n",
       "      <td>-2</td>\n",
       "      <td>1</td>\n",
       "      <td>575</td>\n",
       "      <td>-96</td>\n",
       "      <td>567</td>\n",
       "      <td>161</td>\n",
       "      <td>23</td>\n",
       "      <td>4</td>\n",
       "    </tr>\n",
       "    <tr>\n",
       "      <td>47796</td>\n",
       "      <td>0</td>\n",
       "      <td>65</td>\n",
       "      <td>-2</td>\n",
       "      <td>7</td>\n",
       "      <td>59</td>\n",
       "      <td>-40</td>\n",
       "      <td>43</td>\n",
       "      <td>105</td>\n",
       "      <td>547</td>\n",
       "      <td>0</td>\n",
       "      <td>...</td>\n",
       "      <td>166</td>\n",
       "      <td>424</td>\n",
       "      <td>-2</td>\n",
       "      <td>1</td>\n",
       "      <td>572</td>\n",
       "      <td>-86</td>\n",
       "      <td>566</td>\n",
       "      <td>159</td>\n",
       "      <td>24</td>\n",
       "      <td>1</td>\n",
       "    </tr>\n",
       "    <tr>\n",
       "      <td>47797</td>\n",
       "      <td>8</td>\n",
       "      <td>73</td>\n",
       "      <td>-2</td>\n",
       "      <td>7</td>\n",
       "      <td>47</td>\n",
       "      <td>-30</td>\n",
       "      <td>36</td>\n",
       "      <td>103</td>\n",
       "      <td>554</td>\n",
       "      <td>0</td>\n",
       "      <td>...</td>\n",
       "      <td>167</td>\n",
       "      <td>429</td>\n",
       "      <td>-2</td>\n",
       "      <td>1</td>\n",
       "      <td>571</td>\n",
       "      <td>-84</td>\n",
       "      <td>565</td>\n",
       "      <td>157</td>\n",
       "      <td>25</td>\n",
       "      <td>2</td>\n",
       "    </tr>\n",
       "    <tr>\n",
       "      <td>47798</td>\n",
       "      <td>8</td>\n",
       "      <td>73</td>\n",
       "      <td>-2</td>\n",
       "      <td>7</td>\n",
       "      <td>40</td>\n",
       "      <td>-28</td>\n",
       "      <td>29</td>\n",
       "      <td>101</td>\n",
       "      <td>561</td>\n",
       "      <td>0</td>\n",
       "      <td>...</td>\n",
       "      <td>168</td>\n",
       "      <td>434</td>\n",
       "      <td>-2</td>\n",
       "      <td>1</td>\n",
       "      <td>570</td>\n",
       "      <td>-82</td>\n",
       "      <td>564</td>\n",
       "      <td>155</td>\n",
       "      <td>26</td>\n",
       "      <td>3</td>\n",
       "    </tr>\n",
       "    <tr>\n",
       "      <td>47799</td>\n",
       "      <td>0</td>\n",
       "      <td>73</td>\n",
       "      <td>-2</td>\n",
       "      <td>7</td>\n",
       "      <td>34</td>\n",
       "      <td>-26</td>\n",
       "      <td>22</td>\n",
       "      <td>99</td>\n",
       "      <td>568</td>\n",
       "      <td>0</td>\n",
       "      <td>...</td>\n",
       "      <td>169</td>\n",
       "      <td>439</td>\n",
       "      <td>-2</td>\n",
       "      <td>1</td>\n",
       "      <td>569</td>\n",
       "      <td>-80</td>\n",
       "      <td>563</td>\n",
       "      <td>153</td>\n",
       "      <td>27</td>\n",
       "      <td>2</td>\n",
       "    </tr>\n",
       "  </tbody>\n",
       "</table>\n",
       "<p>47800 rows × 118 columns</p>\n",
       "</div>"
      ],
      "text/plain": [
       "       f0   f1  f2  f3   f4  f5   f6   f7   f8  f9  ...  f108  f109  f110  \\\n",
       "0       0    0   0   0    0   0    0    0    0   0  ...    19   -63    -2   \n",
       "1      -8  232  -3   1  677  18  677  214  -87   1  ...    16   -60    -2   \n",
       "2      -8  232  -3   1  676  21  676  211  -86   1  ...    13   -57    -2   \n",
       "3      -8  232  -3   1  675  24  675  208  -85   1  ...    10   -54    -2   \n",
       "4       8  240  -3   1  675  35  674  205  -84   1  ...     7   -51    -2   \n",
       "...    ..  ...  ..  ..  ...  ..  ...  ...  ...  ..  ...   ...   ...   ...   \n",
       "47795   0   65  -2   7   65 -42   50  107  540   0  ...   165   419    -2   \n",
       "47796   0   65  -2   7   59 -40   43  105  547   0  ...   166   424    -2   \n",
       "47797   8   73  -2   7   47 -30   36  103  554   0  ...   167   429    -2   \n",
       "47798   8   73  -2   7   40 -28   29  101  561   0  ...   168   434    -2   \n",
       "47799   0   73  -2   7   34 -26   22   99  568   0  ...   169   439    -2   \n",
       "\n",
       "       f111  f112  f113  f114  f115  f116  action  \n",
       "0         6   677  -178   653   410   -63       0  \n",
       "1         6   671  -176   647   408   -57       4  \n",
       "2         6   664  -174   641   406   -51       5  \n",
       "3         6   656  -164   635   404   -45       1  \n",
       "4         6   650  -162   629   402   -39       5  \n",
       "...     ...   ...   ...   ...   ...   ...     ...  \n",
       "47795     1   575   -96   567   161    23       4  \n",
       "47796     1   572   -86   566   159    24       1  \n",
       "47797     1   571   -84   565   157    25       2  \n",
       "47798     1   570   -82   564   155    26       3  \n",
       "47799     1   569   -80   563   153    27       2  \n",
       "\n",
       "[47800 rows x 118 columns]"
      ]
     },
     "execution_count": 5,
     "metadata": {},
     "output_type": "execute_result"
    }
   ],
   "source": [
    "features = [\"f\" + str(i) for i in range(0,117)]\n",
    "label = [\"action\"]\n",
    "\n",
    "headers = features + label\n",
    "\n",
    "df = pd.read_csv('models/20192009_2/train.csv', \n",
    "                 sep = ',', \n",
    "                 header = None,\n",
    "                 names = headers)\n",
    "df"
   ]
  },
  {
   "cell_type": "code",
   "execution_count": 6,
   "metadata": {},
   "outputs": [
    {
     "name": "stdout",
     "output_type": "stream",
     "text": [
      "headers length: 118, df lenght: 47800\n"
     ]
    }
   ],
   "source": [
    "print(\"headers length: {}, df lenght: {}\".format(len(headers), len(df)))"
   ]
  },
  {
   "cell_type": "code",
   "execution_count": 7,
   "metadata": {},
   "outputs": [
    {
     "data": {
      "text/plain": [
       "-8    19446\n",
       " 8    18258\n",
       " 0    10096\n",
       "Name: f0, dtype: int64"
      ]
     },
     "execution_count": 7,
     "metadata": {},
     "output_type": "execute_result"
    }
   ],
   "source": [
    "df[\"f0\"].value_counts()"
   ]
  },
  {
   "cell_type": "code",
   "execution_count": 8,
   "metadata": {},
   "outputs": [
    {
     "name": "stdout",
     "output_type": "stream",
     "text": [
      "different actions count \n",
      "5    9334\n",
      "0    9151\n",
      "1    8737\n",
      "4    7959\n",
      "2    7846\n",
      "3    4773\n",
      "Name: action, dtype: int64\n"
     ]
    }
   ],
   "source": [
    "print(\"different actions count \\n{}\".format(df.drop_duplicates()['action'].value_counts()))"
   ]
  },
  {
   "cell_type": "code",
   "execution_count": 9,
   "metadata": {},
   "outputs": [
    {
     "name": "stdout",
     "output_type": "stream",
     "text": [
      "no of states without duplicates: 47800\n"
     ]
    }
   ],
   "source": [
    "print(\"no of states without duplicates: {}\".format(len(df.drop_duplicates())))"
   ]
  },
  {
   "cell_type": "code",
   "execution_count": 10,
   "metadata": {},
   "outputs": [],
   "source": [
    "y_train_all = df[\"action\"]\n",
    "X_train_all = df.drop(columns=\"action\")"
   ]
  },
  {
   "cell_type": "code",
   "execution_count": 11,
   "metadata": {},
   "outputs": [
    {
     "name": "stdout",
     "output_type": "stream",
     "text": [
      "no of states without duplicates and action column: 47800\n"
     ]
    }
   ],
   "source": [
    "print(\"no of states without duplicates and action column: {}\".format(len(X_train_all.drop_duplicates())))"
   ]
  },
  {
   "cell_type": "code",
   "execution_count": null,
   "metadata": {},
   "outputs": [],
   "source": [
    "# import pandas_profiling\n",
    "# pandas_profiling.ProfileReport(df)"
   ]
  },
  {
   "cell_type": "code",
   "execution_count": null,
   "metadata": {},
   "outputs": [],
   "source": [
    "# X_train_all[[\"f0\", \"f1\"]]"
   ]
  },
  {
   "cell_type": "code",
   "execution_count": 12,
   "metadata": {},
   "outputs": [],
   "source": [
    "def evaluate_model(xtrain, ytrain, xtest, ytest, model):\n",
    "    y_pred_test = model.predict(xtest)\n",
    "    y_pred_train = model.predict(xtrain)\n",
    "    test_accuracy = accuracy_score(ytest, y_pred_test)\n",
    "    train_accuracy = accuracy_score(ytrain, y_pred_train)\n",
    "    print('Training accuracy: {0:.2f}, evaluation accuracy: {1:.2f}'.format(train_accuracy, test_accuracy))\n"
   ]
  },
  {
   "cell_type": "markdown",
   "metadata": {},
   "source": [
    "Basic logisting regresion"
   ]
  },
  {
   "cell_type": "code",
   "execution_count": 13,
   "metadata": {},
   "outputs": [
    {
     "name": "stderr",
     "output_type": "stream",
     "text": [
      "/anaconda3/envs/letsplay/lib/python3.6/site-packages/sklearn/linear_model/logistic.py:432: FutureWarning: Default solver will be changed to 'lbfgs' in 0.22. Specify a solver to silence this warning.\n",
      "  FutureWarning)\n",
      "/anaconda3/envs/letsplay/lib/python3.6/site-packages/sklearn/linear_model/logistic.py:469: FutureWarning: Default multi_class will be changed to 'auto' in 0.22. Specify the multi_class option to silence this warning.\n",
      "  \"this warning.\", FutureWarning)\n"
     ]
    }
   ],
   "source": [
    "X_train, X_test, y_train, y_test = train_test_split(X_train_all, y_train_all, test_size=0.2)\n",
    "\n",
    "classifier = LogisticRegression().fit(X_train, y_train)"
   ]
  },
  {
   "cell_type": "code",
   "execution_count": 14,
   "metadata": {},
   "outputs": [
    {
     "name": "stdout",
     "output_type": "stream",
     "text": [
      "Training accuracy: 0.58, evaluation accuracy: 0.57\n"
     ]
    }
   ],
   "source": [
    "evaluate_model(X_train, y_train, X_test, y_test, classifier)"
   ]
  },
  {
   "cell_type": "code",
   "execution_count": 15,
   "metadata": {},
   "outputs": [],
   "source": [
    "pickle.dump(classifier, open(\"ai_model_logit.pkl\",\"wb\"))"
   ]
  },
  {
   "cell_type": "markdown",
   "metadata": {},
   "source": [
    "xgboost"
   ]
  },
  {
   "cell_type": "code",
   "execution_count": 16,
   "metadata": {},
   "outputs": [],
   "source": [
    "X_train, X_test, y_train, y_test = train_test_split(X_train_all, y_train_all, \n",
    "                                                    test_size=0.2, random_state=7)\n",
    "\n",
    "xgb_model = XGBClassifier(n_estimators=500).fit(X_train, y_train,eval_set = [[X_test, y_test]], verbose = 0)"
   ]
  },
  {
   "cell_type": "code",
   "execution_count": 17,
   "metadata": {},
   "outputs": [
    {
     "name": "stdout",
     "output_type": "stream",
     "text": [
      "Training accuracy: 0.76, evaluation accuracy: 0.66\n"
     ]
    }
   ],
   "source": [
    "evaluate_model(X_train, y_train, X_test, y_test, xgb_model)"
   ]
  },
  {
   "cell_type": "code",
   "execution_count": null,
   "metadata": {},
   "outputs": [],
   "source": [
    "xgb_model = XGBClassifier(n_estimators=500).fit(X_train_all, y_train_all)"
   ]
  },
  {
   "cell_type": "code",
   "execution_count": 18,
   "metadata": {},
   "outputs": [],
   "source": [
    "pickle.dump(xgb_model, open(\"ai_model_xgb.pkl\",\"wb\"))"
   ]
  },
  {
   "cell_type": "markdown",
   "metadata": {},
   "source": [
    "random forest model"
   ]
  },
  {
   "cell_type": "code",
   "execution_count": 21,
   "metadata": {},
   "outputs": [
    {
     "data": {
      "text/plain": [
       "RandomForestClassifier(bootstrap=True, class_weight=None, criterion='gini',\n",
       "                       max_depth=None, max_features='auto', max_leaf_nodes=None,\n",
       "                       min_impurity_decrease=0.0, min_impurity_split=None,\n",
       "                       min_samples_leaf=1, min_samples_split=2,\n",
       "                       min_weight_fraction_leaf=0.0, n_estimators=500,\n",
       "                       n_jobs=None, oob_score=False, random_state=1, verbose=0,\n",
       "                       warm_start=False)"
      ]
     },
     "execution_count": 21,
     "metadata": {},
     "output_type": "execute_result"
    }
   ],
   "source": [
    "forest_model = RandomForestClassifier(random_state=1, n_estimators=500)\n",
    "forest_model.fit(X_train, y_train)"
   ]
  },
  {
   "cell_type": "code",
   "execution_count": 22,
   "metadata": {},
   "outputs": [
    {
     "name": "stdout",
     "output_type": "stream",
     "text": [
      "Training accuracy: 1.00, evaluation accuracy: 0.52\n"
     ]
    }
   ],
   "source": [
    "evaluate_model(X_train, y_train, X_test, y_test, forest_model)"
   ]
  },
  {
   "cell_type": "code",
   "execution_count": null,
   "metadata": {},
   "outputs": [],
   "source": [
    "# min_max_scaler = MinMaxScaler()\n",
    "# np_scaled = min_max_scaler.fit_transform(df)\n",
    "# df_normalized = pd.DataFrame(np_scaled)\n",
    "# df_normalized.columns = feature_cols + ['Class']"
   ]
  },
  {
   "cell_type": "code",
   "execution_count": null,
   "metadata": {},
   "outputs": [],
   "source": [
    "# def make_crosses(X_train, X_validation, degree=2):\n",
    "#   from sklearn.preprocessing import PolynomialFeatures\n",
    "#   poly = PolynomialFeatures(degree=degree)\n",
    "#   X_train_poly = poly.fit_transform(X_train)\n",
    "#   X_validation_poly = poly.transform(X_validation)\n",
    "#   return X_train_poly, X_validation_poly"
   ]
  },
  {
   "cell_type": "code",
   "execution_count": 23,
   "metadata": {},
   "outputs": [
    {
     "data": {
      "text/plain": [
       "MLPClassifier(activation='relu', alpha=1e-05, batch_size='auto', beta_1=0.9,\n",
       "              beta_2=0.999, early_stopping=False, epsilon=1e-08,\n",
       "              hidden_layer_sizes=(24, 24), learning_rate='constant',\n",
       "              learning_rate_init=0.001, max_iter=200000, momentum=0.9,\n",
       "              n_iter_no_change=10, nesterovs_momentum=True, power_t=0.5,\n",
       "              random_state=1, shuffle=True, solver='lbfgs', tol=0.0001,\n",
       "              validation_fraction=0.1, verbose=False, warm_start=False)"
      ]
     },
     "execution_count": 23,
     "metadata": {},
     "output_type": "execute_result"
    }
   ],
   "source": [
    "mlp_model = MLPClassifier(solver='lbfgs', alpha=1e-5, \n",
    "                    hidden_layer_sizes=(24, 24), random_state=1, max_iter=200000)\n",
    "\n",
    "mlp_model.fit(X_train_all, y_train_all)"
   ]
  },
  {
   "cell_type": "code",
   "execution_count": 24,
   "metadata": {},
   "outputs": [
    {
     "name": "stdout",
     "output_type": "stream",
     "text": [
      "Training accuracy: 0.17, evaluation accuracy: 0.18\n"
     ]
    }
   ],
   "source": [
    "evaluate_model(X_train, y_train, X_test, y_test, mlp_model)"
   ]
  },
  {
   "cell_type": "markdown",
   "metadata": {},
   "source": [
    "Save models to pkl"
   ]
  },
  {
   "cell_type": "code",
   "execution_count": 25,
   "metadata": {},
   "outputs": [],
   "source": [
    "pickle.dump(forest_model, open(\"ai_model_forest.pkl\",\"wb\"))"
   ]
  },
  {
   "cell_type": "code",
   "execution_count": 26,
   "metadata": {},
   "outputs": [],
   "source": [
    "pickle.dump(mlp_model, open(\"ai_model_mlp.pkl\",\"wb\"))"
   ]
  },
  {
   "cell_type": "code",
   "execution_count": null,
   "metadata": {},
   "outputs": [],
   "source": [
    "def train_on_all_data(xtrain_all, ytrain_all):\n",
    "    models = dict()\n",
    "    X_train, X_test, y_train, y_test = train_test_split(xtrain_all, ytrain_all, \n",
    "                                                    test_size=0.2, random_state=7)\n",
    "\n",
    "    xgb_model = XGBClassifier(n_estimators=1000).fit(X_train, y_train,eval_set = [[X_test, y_test]])\n",
    "    models['xgb', xgb_model]\n",
    "    \n",
    "    mlp_model = MLPClassifier(solver='lbfgs', alpha=1e-5, \n",
    "                    hidden_layer_sizes=(28, 32, 5), random_state=1)\n",
    "\n",
    "    mlp_model.fit(xtrain_all, ytrain_all)\n",
    "    models['mlp', mlp_model]\n",
    "        \n",
    "    forest_model = RandomForestClassifier(random_state=1, n_estimators=1000)\n",
    "    forest_model.fit(xtrain_all, ytrain_all)\n",
    "    models['forest', forest_model]\n",
    "    \n",
    "    return models\n",
    "\n",
    "trained_models = train_on_all_data(X_train_all, y_train_all)\n",
    "for key in trained_models.keys:\n",
    "    pickle.dump(trained_models[key], open(\"ai_model_\"+ key +\".pkl\",\"wb\"))"
   ]
  },
  {
   "cell_type": "code",
   "execution_count": null,
   "metadata": {},
   "outputs": [],
   "source": [
    "!ls"
   ]
  },
  {
   "cell_type": "code",
   "execution_count": null,
   "metadata": {},
   "outputs": [],
   "source": [
    "# model_p = pickle.load(open(\"ai_model.pkl\",\"rb\"))\n",
    "game_state_4f = (np.array([8,280,630,-1,1,674,-3,7,667,-1,2,649,-3,2,662,0,3,662,-1,4,655,-1,5,608,2,7,1,8,288,630,-1,1,672,-3,7,668,-1,2,650,-3,2,661,0,3,657,-1,4,649,-1,5,602,2,7,1,8,296,629,-1,1,670,-3,7,669,-1,2,651,-3,2,660,0,3,651,-1,4,643,-1,5,596,2,7,1,8,296,628,-1,1,665,-3,7,667,-1,2,650,-3,2,658,0,3,647,-1,4,638,-1,5,589,2,7])\n",
    "                 .reshape(1, -1))\n",
    "\n",
    "\n",
    "\n",
    "game_state_1f = (np.array([25, -410, 308, 5, 1, -343, 483, 1, 2, -417, 592, 5, 2, -184, 589, 1, 2, -222, 275, 7, 2, -93, 143, 3, -2, -128, 549, 1, -3, -121, 399, 6, -3]).reshape(1, -1))\n",
    "\n",
    "xgb_model.predict(game_state_1f)"
   ]
  },
  {
   "cell_type": "code",
   "execution_count": null,
   "metadata": {},
   "outputs": [],
   "source": []
  },
  {
   "cell_type": "code",
   "execution_count": null,
   "metadata": {},
   "outputs": [],
   "source": []
  },
  {
   "cell_type": "code",
   "execution_count": null,
   "metadata": {},
   "outputs": [],
   "source": []
  }
 ],
 "metadata": {
  "kernelspec": {
   "display_name": "Python 3",
   "language": "python",
   "name": "python3"
  },
  "language_info": {
   "codemirror_mode": {
    "name": "ipython",
    "version": 3
   },
   "file_extension": ".py",
   "mimetype": "text/x-python",
   "name": "python",
   "nbconvert_exporter": "python",
   "pygments_lexer": "ipython3",
   "version": "3.6.7"
  }
 },
 "nbformat": 4,
 "nbformat_minor": 2
}
