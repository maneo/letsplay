{
 "cells": [
  {
   "cell_type": "code",
   "execution_count": 1,
   "metadata": {},
   "outputs": [],
   "source": [
    "from xgboost import XGBClassifier\n",
    "import pandas as pd\n",
    "import numpy as np\n",
    "import pickle"
   ]
  },
  {
   "cell_type": "code",
   "execution_count": 2,
   "metadata": {
    "scrolled": true
   },
   "outputs": [
    {
     "name": "stdout",
     "output_type": "stream",
     "text": [
      "0,0,0,0,0,0,0,0,0,0,0,0,0,0,0,0,0,0,0,0,0,0,0,0,0,0,0,0,0,0,0,0,0,0,0,0,0,0,0,0,0,0,0,0,0,0,0,0,0,0,0,0,0,0,0,0,0,0,0,0,0,0,0,0,0,0,0,0,0,0,0,0,0,0,0,0,0,0,0,0,0,0,240,636,-1,1,694,-3,7,665,-1,2,650,-3,2,671,0,3,696,-1,4,692,-1,5,647,2,7,4\r\n",
      "0,0,0,0,0,0,0,0,0,0,0,0,0,0,0,0,0,0,0,0,0,0,0,0,0,0,0,0,0,0,0,0,0,0,0,0,0,0,0,0,0,0,0,0,0,0,0,0,0,0,0,0,0,0,0,240,636,-1,1,694,-3,7,665,-1,2,650,-3,2,671,0,3,696,-1,4,692,-1,5,647,2,7,4,0,240,635,-1,1,688,-3,7,663,-1,2,648,-3,2,668,0,3,691,-1,4,687,-1,5,640,2,7,4\r\n",
      "0,0,0,0,0,0,0,0,0,0,0,0,0,0,0,0,0,0,0,0,0,0,0,0,0,0,0,0,240,636,-1,1,694,-3,7,665,-1,2,650,-3,2,671,0,3,696,-1,4,692,-1,5,647,2,7,4,0,240,635,-1,1,688,-3,7,663,-1,2,648,-3,2,668,0,3,691,-1,4,687,-1,5,640,2,7,4,8,248,634,-1,1,685,-3,7,663,-1,2,648,-3,2,666,0,3,685,-1,4,680,-1,5,633,2,7,1\r\n",
      "0,240,636,-1,1,694,-3,7,665,-1,2,650,-3,2,671,0,3,696,-1,4,692,-1,5,647,2,7,4,0,240,635,-1,1,688,-3,7,663,-1,2,648,-3,2,668,0,3,691,-1,4,687,-1,5,640,2,7,4,8,248,634,-1,1,685,-3,7,663,-1,2,648,-3,2,666,0,3,685,-1,4,680,-1,5,633,2,7,1,8,256,633,-1,1,682,-3,7,664,-1,2,648,-3,2,665,0,3,679,-1,4,674,-1,5,627,2,7,1\r\n",
      "0,240,635,-1,1,688,-3,7,663,-1,2,648,-3,2,668,0,3,691,-1,4,687,-1,5,640,2,7,4,8,248,634,-1,1,685,-3,7,663,-1,2,648,-3,2,666,0,3,685,-1,4,680,-1,5,633,2,7,1,8,256,633,-1,1,682,-3,7,664,-1,2,648,-3,2,665,0,3,679,-1,4,674,-1,5,627,2,7,1,8,264,632,-1,1,679,-3,7,665,-1,2,648,-3,2,664,0,3,674,-1,4,667,-1,5,621,2,7,1\r\n",
      "8,248,634,-1,1,685,-3,7,663,-1,2,648,-3,2,666,0,3,685,-1,4,680,-1,5,633,2,7,1,8,256,633,-1,1,682,-3,7,664,-1,2,648,-3,2,665,0,3,679,-1,4,674,-1,5,627,2,7,1,8,264,632,-1,1,679,-3,7,665,-1,2,648,-3,2,664,0,3,674,-1,4,667,-1,5,621,2,7,1,8,272,631,-1,1,676,-3,7,666,-1,2,649,-3,2,663,0,3,668,-1,4,661,-1,5,614,2,7,1\r\n",
      "8,256,633,-1,1,682,-3,7,664,-1,2,648,-3,2,665,0,3,679,-1,4,674,-1,5,627,2,7,1,8,264,632,-1,1,679,-3,7,665,-1,2,648,-3,2,664,0,3,674,-1,4,667,-1,5,621,2,7,1,8,272,631,-1,1,676,-3,7,666,-1,2,649,-3,2,663,0,3,668,-1,4,661,-1,5,614,2,7,1,8,280,630,-1,1,674,-3,7,667,-1,2,649,-3,2,662,0,3,662,-1,4,655,-1,5,608,2,7,1\r\n",
      "8,264,632,-1,1,679,-3,7,665,-1,2,648,-3,2,664,0,3,674,-1,4,667,-1,5,621,2,7,1,8,272,631,-1,1,676,-3,7,666,-1,2,649,-3,2,663,0,3,668,-1,4,661,-1,5,614,2,7,1,8,280,630,-1,1,674,-3,7,667,-1,2,649,-3,2,662,0,3,662,-1,4,655,-1,5,608,2,7,1,8,288,630,-1,1,672,-3,7,668,-1,2,650,-3,2,661,0,3,657,-1,4,649,-1,5,602,2,7,1\r\n",
      "8,272,631,-1,1,676,-3,7,666,-1,2,649,-3,2,663,0,3,668,-1,4,661,-1,5,614,2,7,1,8,280,630,-1,1,674,-3,7,667,-1,2,649,-3,2,662,0,3,662,-1,4,655,-1,5,608,2,7,1,8,288,630,-1,1,672,-3,7,668,-1,2,650,-3,2,661,0,3,657,-1,4,649,-1,5,602,2,7,1,8,296,629,-1,1,670,-3,7,669,-1,2,651,-3,2,660,0,3,651,-1,4,643,-1,5,596,2,7,1\r\n",
      "8,280,630,-1,1,674,-3,7,667,-1,2,649,-3,2,662,0,3,662,-1,4,655,-1,5,608,2,7,1,8,288,630,-1,1,672,-3,7,668,-1,2,650,-3,2,661,0,3,657,-1,4,649,-1,5,602,2,7,1,8,296,629,-1,1,670,-3,7,669,-1,2,651,-3,2,660,0,3,651,-1,4,643,-1,5,596,2,7,1,8,296,628,-1,1,665,-3,7,667,-1,2,650,-3,2,658,0,3,647,-1,4,638,-1,5,589,2,7,4\r\n"
     ]
    }
   ],
   "source": [
    "!head train.csv"
   ]
  },
  {
   "cell_type": "code",
   "execution_count": 3,
   "metadata": {},
   "outputs": [
    {
     "name": "stdout",
     "output_type": "stream",
     "text": [
      "108\n"
     ]
    },
    {
     "data": {
      "text/html": [
       "<div>\n",
       "<style scoped>\n",
       "    .dataframe tbody tr th:only-of-type {\n",
       "        vertical-align: middle;\n",
       "    }\n",
       "\n",
       "    .dataframe tbody tr th {\n",
       "        vertical-align: top;\n",
       "    }\n",
       "\n",
       "    .dataframe thead th {\n",
       "        text-align: right;\n",
       "    }\n",
       "</style>\n",
       "<table border=\"1\" class=\"dataframe\">\n",
       "  <thead>\n",
       "    <tr style=\"text-align: right;\">\n",
       "      <th></th>\n",
       "      <th>f0</th>\n",
       "      <th>f1</th>\n",
       "      <th>f2</th>\n",
       "      <th>f3</th>\n",
       "      <th>f4</th>\n",
       "      <th>f5</th>\n",
       "      <th>f6</th>\n",
       "      <th>f7</th>\n",
       "      <th>f8</th>\n",
       "      <th>f9</th>\n",
       "      <th>...</th>\n",
       "      <th>f98</th>\n",
       "      <th>f99</th>\n",
       "      <th>f100</th>\n",
       "      <th>f101</th>\n",
       "      <th>f102</th>\n",
       "      <th>f103</th>\n",
       "      <th>f104</th>\n",
       "      <th>f105</th>\n",
       "      <th>f106</th>\n",
       "      <th>action</th>\n",
       "    </tr>\n",
       "  </thead>\n",
       "  <tbody>\n",
       "    <tr>\n",
       "      <td>0</td>\n",
       "      <td>0</td>\n",
       "      <td>0</td>\n",
       "      <td>0</td>\n",
       "      <td>0</td>\n",
       "      <td>0</td>\n",
       "      <td>0</td>\n",
       "      <td>0</td>\n",
       "      <td>0</td>\n",
       "      <td>0</td>\n",
       "      <td>0</td>\n",
       "      <td>...</td>\n",
       "      <td>696</td>\n",
       "      <td>-1</td>\n",
       "      <td>4</td>\n",
       "      <td>692</td>\n",
       "      <td>-1</td>\n",
       "      <td>5</td>\n",
       "      <td>647</td>\n",
       "      <td>2</td>\n",
       "      <td>7</td>\n",
       "      <td>4</td>\n",
       "    </tr>\n",
       "    <tr>\n",
       "      <td>1</td>\n",
       "      <td>0</td>\n",
       "      <td>0</td>\n",
       "      <td>0</td>\n",
       "      <td>0</td>\n",
       "      <td>0</td>\n",
       "      <td>0</td>\n",
       "      <td>0</td>\n",
       "      <td>0</td>\n",
       "      <td>0</td>\n",
       "      <td>0</td>\n",
       "      <td>...</td>\n",
       "      <td>691</td>\n",
       "      <td>-1</td>\n",
       "      <td>4</td>\n",
       "      <td>687</td>\n",
       "      <td>-1</td>\n",
       "      <td>5</td>\n",
       "      <td>640</td>\n",
       "      <td>2</td>\n",
       "      <td>7</td>\n",
       "      <td>4</td>\n",
       "    </tr>\n",
       "    <tr>\n",
       "      <td>2</td>\n",
       "      <td>0</td>\n",
       "      <td>0</td>\n",
       "      <td>0</td>\n",
       "      <td>0</td>\n",
       "      <td>0</td>\n",
       "      <td>0</td>\n",
       "      <td>0</td>\n",
       "      <td>0</td>\n",
       "      <td>0</td>\n",
       "      <td>0</td>\n",
       "      <td>...</td>\n",
       "      <td>685</td>\n",
       "      <td>-1</td>\n",
       "      <td>4</td>\n",
       "      <td>680</td>\n",
       "      <td>-1</td>\n",
       "      <td>5</td>\n",
       "      <td>633</td>\n",
       "      <td>2</td>\n",
       "      <td>7</td>\n",
       "      <td>1</td>\n",
       "    </tr>\n",
       "    <tr>\n",
       "      <td>3</td>\n",
       "      <td>0</td>\n",
       "      <td>240</td>\n",
       "      <td>636</td>\n",
       "      <td>-1</td>\n",
       "      <td>1</td>\n",
       "      <td>694</td>\n",
       "      <td>-3</td>\n",
       "      <td>7</td>\n",
       "      <td>665</td>\n",
       "      <td>-1</td>\n",
       "      <td>...</td>\n",
       "      <td>679</td>\n",
       "      <td>-1</td>\n",
       "      <td>4</td>\n",
       "      <td>674</td>\n",
       "      <td>-1</td>\n",
       "      <td>5</td>\n",
       "      <td>627</td>\n",
       "      <td>2</td>\n",
       "      <td>7</td>\n",
       "      <td>1</td>\n",
       "    </tr>\n",
       "    <tr>\n",
       "      <td>4</td>\n",
       "      <td>0</td>\n",
       "      <td>240</td>\n",
       "      <td>635</td>\n",
       "      <td>-1</td>\n",
       "      <td>1</td>\n",
       "      <td>688</td>\n",
       "      <td>-3</td>\n",
       "      <td>7</td>\n",
       "      <td>663</td>\n",
       "      <td>-1</td>\n",
       "      <td>...</td>\n",
       "      <td>674</td>\n",
       "      <td>-1</td>\n",
       "      <td>4</td>\n",
       "      <td>667</td>\n",
       "      <td>-1</td>\n",
       "      <td>5</td>\n",
       "      <td>621</td>\n",
       "      <td>2</td>\n",
       "      <td>7</td>\n",
       "      <td>1</td>\n",
       "    </tr>\n",
       "    <tr>\n",
       "      <td>...</td>\n",
       "      <td>...</td>\n",
       "      <td>...</td>\n",
       "      <td>...</td>\n",
       "      <td>...</td>\n",
       "      <td>...</td>\n",
       "      <td>...</td>\n",
       "      <td>...</td>\n",
       "      <td>...</td>\n",
       "      <td>...</td>\n",
       "      <td>...</td>\n",
       "      <td>...</td>\n",
       "      <td>...</td>\n",
       "      <td>...</td>\n",
       "      <td>...</td>\n",
       "      <td>...</td>\n",
       "      <td>...</td>\n",
       "      <td>...</td>\n",
       "      <td>...</td>\n",
       "      <td>...</td>\n",
       "      <td>...</td>\n",
       "      <td>...</td>\n",
       "    </tr>\n",
       "    <tr>\n",
       "      <td>835</td>\n",
       "      <td>8</td>\n",
       "      <td>89</td>\n",
       "      <td>456</td>\n",
       "      <td>2</td>\n",
       "      <td>2</td>\n",
       "      <td>96</td>\n",
       "      <td>-1</td>\n",
       "      <td>2</td>\n",
       "      <td>574</td>\n",
       "      <td>0</td>\n",
       "      <td>...</td>\n",
       "      <td>638</td>\n",
       "      <td>0</td>\n",
       "      <td>1</td>\n",
       "      <td>649</td>\n",
       "      <td>1</td>\n",
       "      <td>1</td>\n",
       "      <td>605</td>\n",
       "      <td>-1</td>\n",
       "      <td>1</td>\n",
       "      <td>2</td>\n",
       "    </tr>\n",
       "    <tr>\n",
       "      <td>836</td>\n",
       "      <td>8</td>\n",
       "      <td>89</td>\n",
       "      <td>455</td>\n",
       "      <td>2</td>\n",
       "      <td>2</td>\n",
       "      <td>94</td>\n",
       "      <td>-1</td>\n",
       "      <td>2</td>\n",
       "      <td>573</td>\n",
       "      <td>0</td>\n",
       "      <td>...</td>\n",
       "      <td>637</td>\n",
       "      <td>0</td>\n",
       "      <td>1</td>\n",
       "      <td>648</td>\n",
       "      <td>1</td>\n",
       "      <td>1</td>\n",
       "      <td>604</td>\n",
       "      <td>-1</td>\n",
       "      <td>1</td>\n",
       "      <td>5</td>\n",
       "    </tr>\n",
       "    <tr>\n",
       "      <td>837</td>\n",
       "      <td>8</td>\n",
       "      <td>89</td>\n",
       "      <td>454</td>\n",
       "      <td>2</td>\n",
       "      <td>2</td>\n",
       "      <td>91</td>\n",
       "      <td>-1</td>\n",
       "      <td>2</td>\n",
       "      <td>572</td>\n",
       "      <td>0</td>\n",
       "      <td>...</td>\n",
       "      <td>637</td>\n",
       "      <td>0</td>\n",
       "      <td>1</td>\n",
       "      <td>650</td>\n",
       "      <td>1</td>\n",
       "      <td>1</td>\n",
       "      <td>606</td>\n",
       "      <td>-1</td>\n",
       "      <td>1</td>\n",
       "      <td>0</td>\n",
       "    </tr>\n",
       "    <tr>\n",
       "      <td>838</td>\n",
       "      <td>8</td>\n",
       "      <td>89</td>\n",
       "      <td>453</td>\n",
       "      <td>2</td>\n",
       "      <td>2</td>\n",
       "      <td>89</td>\n",
       "      <td>-1</td>\n",
       "      <td>2</td>\n",
       "      <td>571</td>\n",
       "      <td>0</td>\n",
       "      <td>...</td>\n",
       "      <td>636</td>\n",
       "      <td>0</td>\n",
       "      <td>1</td>\n",
       "      <td>650</td>\n",
       "      <td>1</td>\n",
       "      <td>1</td>\n",
       "      <td>605</td>\n",
       "      <td>-1</td>\n",
       "      <td>1</td>\n",
       "      <td>5</td>\n",
       "    </tr>\n",
       "    <tr>\n",
       "      <td>839</td>\n",
       "      <td>8</td>\n",
       "      <td>89</td>\n",
       "      <td>451</td>\n",
       "      <td>2</td>\n",
       "      <td>2</td>\n",
       "      <td>87</td>\n",
       "      <td>-1</td>\n",
       "      <td>2</td>\n",
       "      <td>570</td>\n",
       "      <td>0</td>\n",
       "      <td>...</td>\n",
       "      <td>635</td>\n",
       "      <td>0</td>\n",
       "      <td>1</td>\n",
       "      <td>649</td>\n",
       "      <td>1</td>\n",
       "      <td>1</td>\n",
       "      <td>603</td>\n",
       "      <td>-1</td>\n",
       "      <td>1</td>\n",
       "      <td>5</td>\n",
       "    </tr>\n",
       "  </tbody>\n",
       "</table>\n",
       "<p>840 rows × 108 columns</p>\n",
       "</div>"
      ],
      "text/plain": [
       "     f0   f1   f2  f3  f4   f5  f6  f7   f8  f9  ...  f98  f99  f100  f101  \\\n",
       "0     0    0    0   0   0    0   0   0    0   0  ...  696   -1     4   692   \n",
       "1     0    0    0   0   0    0   0   0    0   0  ...  691   -1     4   687   \n",
       "2     0    0    0   0   0    0   0   0    0   0  ...  685   -1     4   680   \n",
       "3     0  240  636  -1   1  694  -3   7  665  -1  ...  679   -1     4   674   \n",
       "4     0  240  635  -1   1  688  -3   7  663  -1  ...  674   -1     4   667   \n",
       "..   ..  ...  ...  ..  ..  ...  ..  ..  ...  ..  ...  ...  ...   ...   ...   \n",
       "835   8   89  456   2   2   96  -1   2  574   0  ...  638    0     1   649   \n",
       "836   8   89  455   2   2   94  -1   2  573   0  ...  637    0     1   648   \n",
       "837   8   89  454   2   2   91  -1   2  572   0  ...  637    0     1   650   \n",
       "838   8   89  453   2   2   89  -1   2  571   0  ...  636    0     1   650   \n",
       "839   8   89  451   2   2   87  -1   2  570   0  ...  635    0     1   649   \n",
       "\n",
       "     f102  f103  f104  f105  f106  action  \n",
       "0      -1     5   647     2     7       4  \n",
       "1      -1     5   640     2     7       4  \n",
       "2      -1     5   633     2     7       1  \n",
       "3      -1     5   627     2     7       1  \n",
       "4      -1     5   621     2     7       1  \n",
       "..    ...   ...   ...   ...   ...     ...  \n",
       "835     1     1   605    -1     1       2  \n",
       "836     1     1   604    -1     1       5  \n",
       "837     1     1   606    -1     1       0  \n",
       "838     1     1   605    -1     1       5  \n",
       "839     1     1   603    -1     1       5  \n",
       "\n",
       "[840 rows x 108 columns]"
      ]
     },
     "execution_count": 3,
     "metadata": {},
     "output_type": "execute_result"
    }
   ],
   "source": [
    "features = [\"f\" + str(i) for i in range(0,107)]\n",
    "label = [\"action\"]\n",
    "\n",
    "headers = features + label\n",
    "print(len(headers))\n",
    "\n",
    "df = pd.read_csv('train.csv', \n",
    "                 sep = ',', \n",
    "                 header = None,\n",
    "                 names = headers)\n",
    "len(df)"
   ]
  },
  {
   "cell_type": "code",
   "execution_count": 4,
   "metadata": {},
   "outputs": [
    {
     "data": {
      "text/plain": [
       "840"
      ]
     },
     "execution_count": 4,
     "metadata": {},
     "output_type": "execute_result"
    }
   ],
   "source": [
    "len(df)"
   ]
  },
  {
   "cell_type": "code",
   "execution_count": null,
   "metadata": {},
   "outputs": [],
   "source": []
  },
  {
   "cell_type": "code",
   "execution_count": null,
   "metadata": {},
   "outputs": [],
   "source": [
    "# import pandas_profiling\n",
    "# pandas_profiling.ProfileReport(df)"
   ]
  },
  {
   "cell_type": "markdown",
   "metadata": {},
   "source": [
    "Basic logisting regresion"
   ]
  },
  {
   "cell_type": "code",
   "execution_count": 8,
   "metadata": {},
   "outputs": [
    {
     "name": "stderr",
     "output_type": "stream",
     "text": [
      "/anaconda3/envs/letsplay/lib/python3.6/site-packages/sklearn/linear_model/logistic.py:432: FutureWarning: Default solver will be changed to 'lbfgs' in 0.22. Specify a solver to silence this warning.\n",
      "  FutureWarning)\n",
      "/anaconda3/envs/letsplay/lib/python3.6/site-packages/sklearn/linear_model/logistic.py:469: FutureWarning: Default multi_class will be changed to 'auto' in 0.22. Specify the multi_class option to silence this warning.\n",
      "  \"this warning.\", FutureWarning)\n"
     ]
    },
    {
     "name": "stdout",
     "output_type": "stream",
     "text": [
      "Training accuracy: 0.75, evaluation accuracy: 0.55\n"
     ]
    },
    {
     "name": "stderr",
     "output_type": "stream",
     "text": [
      "/anaconda3/envs/letsplay/lib/python3.6/site-packages/sklearn/svm/base.py:929: ConvergenceWarning: Liblinear failed to converge, increase the number of iterations.\n",
      "  \"the number of iterations.\", ConvergenceWarning)\n"
     ]
    }
   ],
   "source": [
    "from sklearn.model_selection import train_test_split\n",
    "from sklearn.linear_model import LogisticRegression\n",
    "from sklearn.metrics import accuracy_score\n",
    "\n",
    "X_train, X_test, y_train, y_test = train_test_split(X_train, y_train, test_size=0.25)\n",
    "\n",
    "classifier = LogisticRegression().fit(X_train, y_train)\n",
    "y_pred_test = classifier.predict(X_test)\n",
    "y_pred_train = classifier.predict(X_train)\n",
    "\n",
    "test_accuracy = accuracy_score(y_test, y_pred_test)\n",
    "train_accuracy = accuracy_score(y_train, y_pred_train)\n",
    "print('Training accuracy: {0:.2f}, evaluation accuracy: {1:.2f}'.format(train_accuracy, test_accuracy))"
   ]
  },
  {
   "cell_type": "code",
   "execution_count": null,
   "metadata": {},
   "outputs": [],
   "source": []
  },
  {
   "cell_type": "code",
   "execution_count": null,
   "metadata": {},
   "outputs": [],
   "source": []
  },
  {
   "cell_type": "markdown",
   "metadata": {},
   "source": [
    "xgboost"
   ]
  },
  {
   "cell_type": "code",
   "execution_count": 6,
   "metadata": {},
   "outputs": [
    {
     "data": {
      "text/plain": [
       "<bound method XGBClassifier.evals_result of XGBClassifier(base_score=0.5, booster='gbtree', colsample_bylevel=1,\n",
       "              colsample_bynode=1, colsample_bytree=1, gamma=0,\n",
       "              learning_rate=0.1, max_delta_step=0, max_depth=3,\n",
       "              min_child_weight=1, missing=None, n_estimators=100, n_jobs=1,\n",
       "              nthread=None, objective='multi:softprob', random_state=0,\n",
       "              reg_alpha=0, reg_lambda=1, scale_pos_weight=1, seed=None,\n",
       "              silent=None, subsample=1, verbosity=1)>"
      ]
     },
     "execution_count": 6,
     "metadata": {},
     "output_type": "execute_result"
    }
   ],
   "source": [
    "y_train = df[\"action\"]\n",
    "X_train = df.drop(columns=\"action\")\n",
    "\n",
    "model = XGBClassifier().fit(X_train, y_train)\n",
    "\n",
    "model.evals_result"
   ]
  },
  {
   "cell_type": "code",
   "execution_count": null,
   "metadata": {},
   "outputs": [],
   "source": []
  },
  {
   "cell_type": "markdown",
   "metadata": {},
   "source": [
    "random forest model"
   ]
  },
  {
   "cell_type": "code",
   "execution_count": null,
   "metadata": {},
   "outputs": [],
   "source": [
    "from sklearn.ensemble import RandomForestClassifier\n",
    "forest_model = RandomForestClassifier(random_state=1, n_estimators=1000)\n",
    "forest_model.fit(X_train, y_train)"
   ]
  },
  {
   "cell_type": "code",
   "execution_count": null,
   "metadata": {},
   "outputs": [],
   "source": [
    "pickle.dump(forest_model, open(\"ai_model_forest.pkl\",\"wb\"))"
   ]
  },
  {
   "cell_type": "code",
   "execution_count": null,
   "metadata": {},
   "outputs": [],
   "source": [
    "from sklearn.neural_network import MLPClassifier\n",
    "mlp_model = MLPClassifier(solver='lbfgs', alpha=1e-5, \n",
    "                    hidden_layer_sizes=(128, 128, 128), random_state=1)\n",
    "\n",
    "mlp_model.fit(X_train, y_train)   "
   ]
  },
  {
   "cell_type": "code",
   "execution_count": null,
   "metadata": {},
   "outputs": [],
   "source": [
    "pickle.dump(mlp_model, open(\"ai_model_mlp.pkl\",\"wb\"))"
   ]
  },
  {
   "cell_type": "code",
   "execution_count": null,
   "metadata": {},
   "outputs": [],
   "source": [
    "# y_train = df[0]\n",
    "# X_train = df.drop(columns=[0])\n",
    "# y_train_matrix = y_train.values\n",
    "# X_train_matrix = X_train.values"
   ]
  },
  {
   "cell_type": "code",
   "execution_count": null,
   "metadata": {},
   "outputs": [],
   "source": [
    "from sklearn.model_selection import train_test_split\n",
    "\n",
    "X_train, X_test, y_train, y_test = train_test_split(df.drop(columns=\"action\"), df[\"action\"], \n",
    "                                                    test_size=0.2, random_state=7)\n",
    "\n",
    "xgb_model = XGBClassifier(n_estimators=1000).fit(X_train, y_train,eval_set = [[X_test, y_test]])"
   ]
  },
  {
   "cell_type": "code",
   "execution_count": null,
   "metadata": {},
   "outputs": [],
   "source": [
    "pickle.dump(xgb_model, open(\"ai_model_xgb.pkl\",\"wb\"))"
   ]
  },
  {
   "cell_type": "code",
   "execution_count": null,
   "metadata": {},
   "outputs": [],
   "source": [
    "!ls"
   ]
  },
  {
   "cell_type": "code",
   "execution_count": 7,
   "metadata": {},
   "outputs": [
    {
     "data": {
      "text/plain": [
       "array([4])"
      ]
     },
     "execution_count": 7,
     "metadata": {},
     "output_type": "execute_result"
    }
   ],
   "source": [
    "# model_p = pickle.load(open(\"ai_model.pkl\",\"rb\"))\n",
    "\n",
    "model.predict(np.array([8,280,630,-1,1,674,-3,7,667,-1,2,649,-3,2,662,0,3,662,-1,4,655,-1,5,608,2,7,1,8,288,630,-1,1,672,-3,7,668,-1,2,650,-3,2,661,0,3,657,-1,4,649,-1,5,602,2,7,1,8,296,629,-1,1,670,-3,7,669,-1,2,651,-3,2,660,0,3,651,-1,4,643,-1,5,596,2,7,1,8,296,628,-1,1,665,-3,7,667,-1,2,650,-3,2,658,0,3,647,-1,4,638,-1,5,589,2,7]).reshape(1, -1))"
   ]
  },
  {
   "cell_type": "code",
   "execution_count": null,
   "metadata": {},
   "outputs": [],
   "source": []
  },
  {
   "cell_type": "code",
   "execution_count": null,
   "metadata": {},
   "outputs": [],
   "source": []
  }
 ],
 "metadata": {
  "kernelspec": {
   "display_name": "Python 3",
   "language": "python",
   "name": "python3"
  },
  "language_info": {
   "codemirror_mode": {
    "name": "ipython",
    "version": 3
   },
   "file_extension": ".py",
   "mimetype": "text/x-python",
   "name": "python",
   "nbconvert_exporter": "python",
   "pygments_lexer": "ipython3",
   "version": "3.6.7"
  }
 },
 "nbformat": 4,
 "nbformat_minor": 2
}
