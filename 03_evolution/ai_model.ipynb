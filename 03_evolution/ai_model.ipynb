{
 "cells": [
  {
   "cell_type": "code",
   "execution_count": 1,
   "metadata": {},
   "outputs": [],
   "source": [
    "from xgboost import XGBClassifier\n",
    "import pandas as pd\n",
    "import numpy as np\n",
    "import pickle\n",
    "from sklearn.neural_network import MLPClassifier\n",
    "from sklearn.model_selection import train_test_split\n",
    "from sklearn.linear_model import LogisticRegression\n",
    "from sklearn.metrics import accuracy_score\n",
    "from sklearn.ensemble import RandomForestClassifier"
   ]
  },
  {
   "cell_type": "code",
   "execution_count": 2,
   "metadata": {
    "scrolled": true
   },
   "outputs": [
    {
     "name": "stdout",
     "output_type": "stream",
     "text": [
      "89835\r\n"
     ]
    }
   ],
   "source": [
    "!cat models/20192009_4/train.csv | wc -l"
   ]
  },
  {
   "cell_type": "code",
   "execution_count": 3,
   "metadata": {},
   "outputs": [
    {
     "name": "stdout",
     "output_type": "stream",
     "text": [
      "train-data-10_1.csv  train-data-1_5.csv   train-data-31_6.csv\r\n",
      "train-data-10_4.csv  train-data-1_6.csv   train-data-33_5.csv\r\n",
      "train-data-13_1.csv  train-data-1_7.csv   train-data-34_4.csv\r\n",
      "train-data-13_5.csv  train-data-1_8.csv   train-data-3_1.csv\r\n",
      "train-data-15_4.csv  train-data-1_9.csv   train-data-40_2.csv\r\n",
      "train-data-17_3.csv  train-data-20_5.csv  train-data-40_4.csv\r\n",
      "train-data-18_2.csv  train-data-21_3.csv  train-data-5_5.csv\r\n",
      "train-data-19_2.csv  train-data-21_4.csv  train-data-6_1.csv\r\n",
      "train-data-1_3.csv   train-data-2_4.csv   train.csv\r\n",
      "train-data-1_4.csv   train-data-30_3.csv\r\n"
     ]
    }
   ],
   "source": [
    "!ls models/20192009_4/"
   ]
  },
  {
   "cell_type": "code",
   "execution_count": 4,
   "metadata": {},
   "outputs": [
    {
     "data": {
      "text/html": [
       "<div>\n",
       "<style scoped>\n",
       "    .dataframe tbody tr th:only-of-type {\n",
       "        vertical-align: middle;\n",
       "    }\n",
       "\n",
       "    .dataframe tbody tr th {\n",
       "        vertical-align: top;\n",
       "    }\n",
       "\n",
       "    .dataframe thead th {\n",
       "        text-align: right;\n",
       "    }\n",
       "</style>\n",
       "<table border=\"1\" class=\"dataframe\">\n",
       "  <thead>\n",
       "    <tr style=\"text-align: right;\">\n",
       "      <th></th>\n",
       "      <th>f0</th>\n",
       "      <th>f1</th>\n",
       "      <th>f2</th>\n",
       "      <th>f3</th>\n",
       "      <th>f4</th>\n",
       "      <th>f5</th>\n",
       "      <th>f6</th>\n",
       "      <th>f7</th>\n",
       "      <th>f8</th>\n",
       "      <th>f9</th>\n",
       "      <th>...</th>\n",
       "      <th>f48</th>\n",
       "      <th>f49</th>\n",
       "      <th>f50</th>\n",
       "      <th>f51</th>\n",
       "      <th>f52</th>\n",
       "      <th>f53</th>\n",
       "      <th>f54</th>\n",
       "      <th>f55</th>\n",
       "      <th>f56</th>\n",
       "      <th>action</th>\n",
       "    </tr>\n",
       "  </thead>\n",
       "  <tbody>\n",
       "    <tr>\n",
       "      <td>0</td>\n",
       "      <td>232</td>\n",
       "      <td>0</td>\n",
       "      <td>5</td>\n",
       "      <td>661</td>\n",
       "      <td>-75</td>\n",
       "      <td>657</td>\n",
       "      <td>307</td>\n",
       "      <td>-67</td>\n",
       "      <td>0</td>\n",
       "      <td>1</td>\n",
       "      <td>...</td>\n",
       "      <td>432</td>\n",
       "      <td>-83</td>\n",
       "      <td>0</td>\n",
       "      <td>2</td>\n",
       "      <td>701</td>\n",
       "      <td>-164</td>\n",
       "      <td>682</td>\n",
       "      <td>396</td>\n",
       "      <td>-92</td>\n",
       "      <td>0</td>\n",
       "    </tr>\n",
       "    <tr>\n",
       "      <td>1</td>\n",
       "      <td>232</td>\n",
       "      <td>0</td>\n",
       "      <td>5</td>\n",
       "      <td>656</td>\n",
       "      <td>-75</td>\n",
       "      <td>652</td>\n",
       "      <td>307</td>\n",
       "      <td>-62</td>\n",
       "      <td>0</td>\n",
       "      <td>1</td>\n",
       "      <td>...</td>\n",
       "      <td>434</td>\n",
       "      <td>-80</td>\n",
       "      <td>0</td>\n",
       "      <td>2</td>\n",
       "      <td>699</td>\n",
       "      <td>-164</td>\n",
       "      <td>680</td>\n",
       "      <td>396</td>\n",
       "      <td>-90</td>\n",
       "      <td>4</td>\n",
       "    </tr>\n",
       "    <tr>\n",
       "      <td>2</td>\n",
       "      <td>232</td>\n",
       "      <td>0</td>\n",
       "      <td>5</td>\n",
       "      <td>651</td>\n",
       "      <td>-75</td>\n",
       "      <td>647</td>\n",
       "      <td>307</td>\n",
       "      <td>-57</td>\n",
       "      <td>0</td>\n",
       "      <td>1</td>\n",
       "      <td>...</td>\n",
       "      <td>436</td>\n",
       "      <td>-77</td>\n",
       "      <td>0</td>\n",
       "      <td>2</td>\n",
       "      <td>698</td>\n",
       "      <td>-164</td>\n",
       "      <td>678</td>\n",
       "      <td>396</td>\n",
       "      <td>-88</td>\n",
       "      <td>5</td>\n",
       "    </tr>\n",
       "    <tr>\n",
       "      <td>3</td>\n",
       "      <td>240</td>\n",
       "      <td>0</td>\n",
       "      <td>5</td>\n",
       "      <td>645</td>\n",
       "      <td>-67</td>\n",
       "      <td>642</td>\n",
       "      <td>307</td>\n",
       "      <td>-52</td>\n",
       "      <td>0</td>\n",
       "      <td>1</td>\n",
       "      <td>...</td>\n",
       "      <td>438</td>\n",
       "      <td>-74</td>\n",
       "      <td>0</td>\n",
       "      <td>2</td>\n",
       "      <td>694</td>\n",
       "      <td>-156</td>\n",
       "      <td>676</td>\n",
       "      <td>396</td>\n",
       "      <td>-86</td>\n",
       "      <td>1</td>\n",
       "    </tr>\n",
       "    <tr>\n",
       "      <td>4</td>\n",
       "      <td>240</td>\n",
       "      <td>0</td>\n",
       "      <td>5</td>\n",
       "      <td>641</td>\n",
       "      <td>-67</td>\n",
       "      <td>637</td>\n",
       "      <td>307</td>\n",
       "      <td>-47</td>\n",
       "      <td>0</td>\n",
       "      <td>1</td>\n",
       "      <td>...</td>\n",
       "      <td>440</td>\n",
       "      <td>-71</td>\n",
       "      <td>0</td>\n",
       "      <td>2</td>\n",
       "      <td>692</td>\n",
       "      <td>-156</td>\n",
       "      <td>674</td>\n",
       "      <td>396</td>\n",
       "      <td>-84</td>\n",
       "      <td>5</td>\n",
       "    </tr>\n",
       "    <tr>\n",
       "      <td>...</td>\n",
       "      <td>...</td>\n",
       "      <td>...</td>\n",
       "      <td>...</td>\n",
       "      <td>...</td>\n",
       "      <td>...</td>\n",
       "      <td>...</td>\n",
       "      <td>...</td>\n",
       "      <td>...</td>\n",
       "      <td>...</td>\n",
       "      <td>...</td>\n",
       "      <td>...</td>\n",
       "      <td>...</td>\n",
       "      <td>...</td>\n",
       "      <td>...</td>\n",
       "      <td>...</td>\n",
       "      <td>...</td>\n",
       "      <td>...</td>\n",
       "      <td>...</td>\n",
       "      <td>...</td>\n",
       "      <td>...</td>\n",
       "      <td>...</td>\n",
       "    </tr>\n",
       "    <tr>\n",
       "      <td>89830</td>\n",
       "      <td>352</td>\n",
       "      <td>-2</td>\n",
       "      <td>6</td>\n",
       "      <td>404</td>\n",
       "      <td>339</td>\n",
       "      <td>220</td>\n",
       "      <td>13</td>\n",
       "      <td>370</td>\n",
       "      <td>-2</td>\n",
       "      <td>3</td>\n",
       "      <td>...</td>\n",
       "      <td>79</td>\n",
       "      <td>-44</td>\n",
       "      <td>2</td>\n",
       "      <td>1</td>\n",
       "      <td>671</td>\n",
       "      <td>3</td>\n",
       "      <td>671</td>\n",
       "      <td>349</td>\n",
       "      <td>-81</td>\n",
       "      <td>1</td>\n",
       "    </tr>\n",
       "    <tr>\n",
       "      <td>89831</td>\n",
       "      <td>352</td>\n",
       "      <td>-2</td>\n",
       "      <td>6</td>\n",
       "      <td>403</td>\n",
       "      <td>341</td>\n",
       "      <td>214</td>\n",
       "      <td>11</td>\n",
       "      <td>376</td>\n",
       "      <td>-2</td>\n",
       "      <td>3</td>\n",
       "      <td>...</td>\n",
       "      <td>81</td>\n",
       "      <td>-40</td>\n",
       "      <td>2</td>\n",
       "      <td>1</td>\n",
       "      <td>670</td>\n",
       "      <td>1</td>\n",
       "      <td>670</td>\n",
       "      <td>351</td>\n",
       "      <td>-80</td>\n",
       "      <td>4</td>\n",
       "    </tr>\n",
       "    <tr>\n",
       "      <td>89832</td>\n",
       "      <td>360</td>\n",
       "      <td>-2</td>\n",
       "      <td>6</td>\n",
       "      <td>408</td>\n",
       "      <td>351</td>\n",
       "      <td>208</td>\n",
       "      <td>9</td>\n",
       "      <td>382</td>\n",
       "      <td>-2</td>\n",
       "      <td>3</td>\n",
       "      <td>...</td>\n",
       "      <td>83</td>\n",
       "      <td>-36</td>\n",
       "      <td>2</td>\n",
       "      <td>1</td>\n",
       "      <td>669</td>\n",
       "      <td>7</td>\n",
       "      <td>669</td>\n",
       "      <td>353</td>\n",
       "      <td>-79</td>\n",
       "      <td>1</td>\n",
       "    </tr>\n",
       "    <tr>\n",
       "      <td>89833</td>\n",
       "      <td>360</td>\n",
       "      <td>-2</td>\n",
       "      <td>6</td>\n",
       "      <td>407</td>\n",
       "      <td>353</td>\n",
       "      <td>202</td>\n",
       "      <td>7</td>\n",
       "      <td>388</td>\n",
       "      <td>-2</td>\n",
       "      <td>3</td>\n",
       "      <td>...</td>\n",
       "      <td>85</td>\n",
       "      <td>-32</td>\n",
       "      <td>2</td>\n",
       "      <td>1</td>\n",
       "      <td>668</td>\n",
       "      <td>5</td>\n",
       "      <td>668</td>\n",
       "      <td>355</td>\n",
       "      <td>-78</td>\n",
       "      <td>4</td>\n",
       "    </tr>\n",
       "    <tr>\n",
       "      <td>89834</td>\n",
       "      <td>368</td>\n",
       "      <td>-2</td>\n",
       "      <td>6</td>\n",
       "      <td>413</td>\n",
       "      <td>363</td>\n",
       "      <td>196</td>\n",
       "      <td>5</td>\n",
       "      <td>394</td>\n",
       "      <td>0</td>\n",
       "      <td>7</td>\n",
       "      <td>...</td>\n",
       "      <td>357</td>\n",
       "      <td>-77</td>\n",
       "      <td>0</td>\n",
       "      <td>6</td>\n",
       "      <td>711</td>\n",
       "      <td>179</td>\n",
       "      <td>688</td>\n",
       "      <td>189</td>\n",
       "      <td>-98</td>\n",
       "      <td>1</td>\n",
       "    </tr>\n",
       "  </tbody>\n",
       "</table>\n",
       "<p>89835 rows × 58 columns</p>\n",
       "</div>"
      ],
      "text/plain": [
       "        f0  f1  f2   f3   f4   f5   f6   f7  f8  f9  ...  f48  f49  f50  f51  \\\n",
       "0      232   0   5  661  -75  657  307  -67   0   1  ...  432  -83    0    2   \n",
       "1      232   0   5  656  -75  652  307  -62   0   1  ...  434  -80    0    2   \n",
       "2      232   0   5  651  -75  647  307  -57   0   1  ...  436  -77    0    2   \n",
       "3      240   0   5  645  -67  642  307  -52   0   1  ...  438  -74    0    2   \n",
       "4      240   0   5  641  -67  637  307  -47   0   1  ...  440  -71    0    2   \n",
       "...    ...  ..  ..  ...  ...  ...  ...  ...  ..  ..  ...  ...  ...  ...  ...   \n",
       "89830  352  -2   6  404  339  220   13  370  -2   3  ...   79  -44    2    1   \n",
       "89831  352  -2   6  403  341  214   11  376  -2   3  ...   81  -40    2    1   \n",
       "89832  360  -2   6  408  351  208    9  382  -2   3  ...   83  -36    2    1   \n",
       "89833  360  -2   6  407  353  202    7  388  -2   3  ...   85  -32    2    1   \n",
       "89834  368  -2   6  413  363  196    5  394   0   7  ...  357  -77    0    6   \n",
       "\n",
       "       f52  f53  f54  f55  f56  action  \n",
       "0      701 -164  682  396  -92       0  \n",
       "1      699 -164  680  396  -90       4  \n",
       "2      698 -164  678  396  -88       5  \n",
       "3      694 -156  676  396  -86       1  \n",
       "4      692 -156  674  396  -84       5  \n",
       "...    ...  ...  ...  ...  ...     ...  \n",
       "89830  671    3  671  349  -81       1  \n",
       "89831  670    1  670  351  -80       4  \n",
       "89832  669    7  669  353  -79       1  \n",
       "89833  668    5  668  355  -78       4  \n",
       "89834  711  179  688  189  -98       1  \n",
       "\n",
       "[89835 rows x 58 columns]"
      ]
     },
     "execution_count": 4,
     "metadata": {},
     "output_type": "execute_result"
    }
   ],
   "source": [
    "features = [\"f\" + str(i) for i in range(0,57)]\n",
    "label = [\"action\"]\n",
    "\n",
    "headers = features + label\n",
    "\n",
    "df = pd.read_csv('models/20192009_4/train.csv', \n",
    "                 sep = ',', \n",
    "                 header = None,\n",
    "                 names = headers)\n",
    "df"
   ]
  },
  {
   "cell_type": "code",
   "execution_count": 5,
   "metadata": {},
   "outputs": [
    {
     "name": "stdout",
     "output_type": "stream",
     "text": [
      "headers length: 58, df lenght: 89835\n"
     ]
    }
   ],
   "source": [
    "print(\"headers length: {}, df lenght: {}\".format(len(headers), len(df)))"
   ]
  },
  {
   "cell_type": "code",
   "execution_count": 6,
   "metadata": {},
   "outputs": [
    {
     "data": {
      "text/plain": [
       "256    4287\n",
       "304    3629\n",
       "248    3512\n",
       "240    3383\n",
       "264    3262\n",
       "       ... \n",
       "425       3\n",
       "449       2\n",
       "409       2\n",
       "433       1\n",
       "441       1\n",
       "Name: f0, Length: 161, dtype: int64"
      ]
     },
     "execution_count": 6,
     "metadata": {},
     "output_type": "execute_result"
    }
   ],
   "source": [
    "df[\"f0\"].value_counts()"
   ]
  },
  {
   "cell_type": "code",
   "execution_count": 7,
   "metadata": {},
   "outputs": [
    {
     "name": "stdout",
     "output_type": "stream",
     "text": [
      "different actions count \n",
      "5    17388\n",
      "0    17081\n",
      "1    16388\n",
      "2    14748\n",
      "4    14667\n",
      "3     9563\n",
      "Name: action, dtype: int64\n"
     ]
    }
   ],
   "source": [
    "print(\"different actions count \\n{}\".format(df.drop_duplicates()['action'].value_counts()))"
   ]
  },
  {
   "cell_type": "code",
   "execution_count": 8,
   "metadata": {},
   "outputs": [
    {
     "name": "stdout",
     "output_type": "stream",
     "text": [
      "no of states without duplicates: 89835\n"
     ]
    }
   ],
   "source": [
    "print(\"no of states without duplicates: {}\".format(len(df.drop_duplicates())))"
   ]
  },
  {
   "cell_type": "code",
   "execution_count": 9,
   "metadata": {},
   "outputs": [],
   "source": [
    "y_train_all = df[\"action\"]\n",
    "X_train_all = df.drop(columns=\"action\")"
   ]
  },
  {
   "cell_type": "code",
   "execution_count": 10,
   "metadata": {},
   "outputs": [
    {
     "name": "stdout",
     "output_type": "stream",
     "text": [
      "no of states without duplicates and action column: 89835\n"
     ]
    }
   ],
   "source": [
    "print(\"no of states without duplicates and action column: {}\".format(len(X_train_all.drop_duplicates())))"
   ]
  },
  {
   "cell_type": "code",
   "execution_count": 11,
   "metadata": {},
   "outputs": [],
   "source": [
    "# import pandas_profiling\n",
    "# pandas_profiling.ProfileReport(df)"
   ]
  },
  {
   "cell_type": "code",
   "execution_count": 12,
   "metadata": {},
   "outputs": [],
   "source": [
    "# X_train_all[[\"f0\", \"f1\"]]"
   ]
  },
  {
   "cell_type": "code",
   "execution_count": 13,
   "metadata": {},
   "outputs": [],
   "source": [
    "def evaluate_model(xtrain, ytrain, xtest, ytest, model):\n",
    "    y_pred_test = model.predict(xtest)\n",
    "    y_pred_train = model.predict(xtrain)\n",
    "    test_accuracy = accuracy_score(ytest, y_pred_test)\n",
    "    train_accuracy = accuracy_score(ytrain, y_pred_train)\n",
    "    print('Training accuracy: {0:.2f}, evaluation accuracy: {1:.2f}'.format(train_accuracy, test_accuracy))\n"
   ]
  },
  {
   "cell_type": "markdown",
   "metadata": {},
   "source": [
    "Basic logisting regresion"
   ]
  },
  {
   "cell_type": "code",
   "execution_count": 14,
   "metadata": {},
   "outputs": [
    {
     "name": "stderr",
     "output_type": "stream",
     "text": [
      "/anaconda3/envs/letsplay/lib/python3.6/site-packages/sklearn/linear_model/logistic.py:432: FutureWarning: Default solver will be changed to 'lbfgs' in 0.22. Specify a solver to silence this warning.\n",
      "  FutureWarning)\n",
      "/anaconda3/envs/letsplay/lib/python3.6/site-packages/sklearn/linear_model/logistic.py:469: FutureWarning: Default multi_class will be changed to 'auto' in 0.22. Specify the multi_class option to silence this warning.\n",
      "  \"this warning.\", FutureWarning)\n"
     ]
    }
   ],
   "source": [
    "X_train, X_test, y_train, y_test = train_test_split(X_train_all, y_train_all, test_size=0.2)\n",
    "\n",
    "classifier = LogisticRegression().fit(X_train, y_train)"
   ]
  },
  {
   "cell_type": "code",
   "execution_count": 15,
   "metadata": {},
   "outputs": [
    {
     "name": "stdout",
     "output_type": "stream",
     "text": [
      "Training accuracy: 0.23, evaluation accuracy: 0.23\n"
     ]
    }
   ],
   "source": [
    "evaluate_model(X_train, y_train, X_test, y_test, classifier)"
   ]
  },
  {
   "cell_type": "code",
   "execution_count": 16,
   "metadata": {},
   "outputs": [],
   "source": [
    "pickle.dump(classifier, open(\"ai_model_logit.pkl\",\"wb\"))"
   ]
  },
  {
   "cell_type": "markdown",
   "metadata": {},
   "source": [
    "xgboost"
   ]
  },
  {
   "cell_type": "code",
   "execution_count": 17,
   "metadata": {},
   "outputs": [],
   "source": [
    "X_train, X_test, y_train, y_test = train_test_split(X_train_all, y_train_all, \n",
    "                                                    test_size=0.2, random_state=7)\n",
    "\n",
    "xgb_model = XGBClassifier(n_estimators=500).fit(X_train, y_train,eval_set = [[X_test, y_test]], verbose = 1)"
   ]
  },
  {
   "cell_type": "code",
   "execution_count": 18,
   "metadata": {},
   "outputs": [
    {
     "name": "stdout",
     "output_type": "stream",
     "text": [
      "Training accuracy: 0.36, evaluation accuracy: 0.28\n"
     ]
    }
   ],
   "source": [
    "evaluate_model(X_train, y_train, X_test, y_test, xgb_model)"
   ]
  },
  {
   "cell_type": "code",
   "execution_count": 19,
   "metadata": {},
   "outputs": [],
   "source": [
    "xgb_model = XGBClassifier(n_estimators=500).fit(X_train_all, y_train_all)"
   ]
  },
  {
   "cell_type": "code",
   "execution_count": 20,
   "metadata": {},
   "outputs": [],
   "source": [
    "pickle.dump(xgb_model, open(\"ai_model_xgb.pkl\",\"wb\"))"
   ]
  },
  {
   "cell_type": "markdown",
   "metadata": {},
   "source": [
    "random forest model"
   ]
  },
  {
   "cell_type": "code",
   "execution_count": null,
   "metadata": {},
   "outputs": [],
   "source": [
    "forest_model = RandomForestClassifier(random_state=1, n_estimators=500)\n",
    "forest_model.fit(X_train, y_train)"
   ]
  },
  {
   "cell_type": "code",
   "execution_count": null,
   "metadata": {},
   "outputs": [],
   "source": [
    "evaluate_model(X_train, y_train, X_test, y_test, forest_model)"
   ]
  },
  {
   "cell_type": "code",
   "execution_count": null,
   "metadata": {},
   "outputs": [],
   "source": [
    "# min_max_scaler = MinMaxScaler()\n",
    "# np_scaled = min_max_scaler.fit_transform(df)\n",
    "# df_normalized = pd.DataFrame(np_scaled)\n",
    "# df_normalized.columns = feature_cols + ['Class']"
   ]
  },
  {
   "cell_type": "code",
   "execution_count": null,
   "metadata": {},
   "outputs": [],
   "source": [
    "# def make_crosses(X_train, X_validation, degree=2):\n",
    "#   from sklearn.preprocessing import PolynomialFeatures\n",
    "#   poly = PolynomialFeatures(degree=degree)\n",
    "#   X_train_poly = poly.fit_transform(X_train)\n",
    "#   X_validation_poly = poly.transform(X_validation)\n",
    "#   return X_train_poly, X_validation_poly"
   ]
  },
  {
   "cell_type": "code",
   "execution_count": null,
   "metadata": {},
   "outputs": [],
   "source": [
    "mlp_model = MLPClassifier(solver='lbfgs', alpha=1e-5, \n",
    "                    hidden_layer_sizes=(24, 24), random_state=1, max_iter=200000)\n",
    "\n",
    "mlp_model.fit(X_train_all, y_train_all)"
   ]
  },
  {
   "cell_type": "code",
   "execution_count": null,
   "metadata": {},
   "outputs": [],
   "source": [
    "evaluate_model(X_train, y_train, X_test, y_test, mlp_model)"
   ]
  },
  {
   "cell_type": "markdown",
   "metadata": {},
   "source": [
    "Save models to pkl"
   ]
  },
  {
   "cell_type": "code",
   "execution_count": null,
   "metadata": {},
   "outputs": [],
   "source": [
    "pickle.dump(forest_model, open(\"ai_model_forest.pkl\",\"wb\"))"
   ]
  },
  {
   "cell_type": "code",
   "execution_count": null,
   "metadata": {},
   "outputs": [],
   "source": [
    "pickle.dump(mlp_model, open(\"ai_model_mlp.pkl\",\"wb\"))"
   ]
  },
  {
   "cell_type": "code",
   "execution_count": null,
   "metadata": {},
   "outputs": [],
   "source": [
    "!ls"
   ]
  },
  {
   "cell_type": "code",
   "execution_count": null,
   "metadata": {},
   "outputs": [],
   "source": [
    "# model_p = pickle.load(open(\"ai_model.pkl\",\"rb\"))\n",
    "game_state_4f = (np.array([8,280,630,-1,1,674,-3,7,667,-1,2,649,-3,2,662,0,3,662,-1,4,655,-1,5,608,2,7,1,8,288,630,-1,1,672,-3,7,668,-1,2,650,-3,2,661,0,3,657,-1,4,649,-1,5,602,2,7,1,8,296,629,-1,1,670,-3,7,669,-1,2,651,-3,2,660,0,3,651,-1,4,643,-1,5,596,2,7,1,8,296,628,-1,1,665,-3,7,667,-1,2,650,-3,2,658,0,3,647,-1,4,638,-1,5,589,2,7])\n",
    "                 .reshape(1, -1))\n",
    "\n",
    "\n",
    "\n",
    "game_state_1f = (np.array([25, -410, 308, 5, 1, -343, 483, 1, 2, -417, 592, 5, 2, -184, 589, 1, 2, -222, 275, 7, 2, -93, 143, 3, -2, -128, 549, 1, -3, -121, 399, 6, -3]).reshape(1, -1))\n",
    "\n",
    "xgb_model.predict(game_state_1f)"
   ]
  },
  {
   "cell_type": "code",
   "execution_count": null,
   "metadata": {},
   "outputs": [],
   "source": []
  },
  {
   "cell_type": "code",
   "execution_count": null,
   "metadata": {},
   "outputs": [],
   "source": []
  },
  {
   "cell_type": "code",
   "execution_count": null,
   "metadata": {},
   "outputs": [],
   "source": []
  }
 ],
 "metadata": {
  "kernelspec": {
   "display_name": "Python 3",
   "language": "python",
   "name": "python3"
  },
  "language_info": {
   "codemirror_mode": {
    "name": "ipython",
    "version": 3
   },
   "file_extension": ".py",
   "mimetype": "text/x-python",
   "name": "python",
   "nbconvert_exporter": "python",
   "pygments_lexer": "ipython3",
   "version": "3.6.7"
  }
 },
 "nbformat": 4,
 "nbformat_minor": 2
}
